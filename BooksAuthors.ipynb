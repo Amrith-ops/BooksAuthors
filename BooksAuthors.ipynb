{
 "cells": [
  {
   "cell_type": "code",
   "execution_count": 25,
   "id": "2f747587",
   "metadata": {},
   "outputs": [
    {
     "name": "stdout",
     "output_type": "stream",
     "text": [
      "Sonu Amrith\n"
     ]
    }
   ],
   "source": [
    "println(\"Sonu Amrith\")"
   ]
  },
  {
   "cell_type": "code",
   "execution_count": 2,
   "id": "8359aa0e",
   "metadata": {},
   "outputs": [],
   "source": [
    "/*\n",
    "Installing Scala on Jupyter Notebook\n",
    "1.Install the Java\n",
    "2.Install the Scala\n",
    "3.Install the Spark\n",
    "4.Install the Anaconda and set the path in Path Environment variable\n",
    "5.install the packages using this command in windows powershell \n",
    "  i) (pip install spylon-kernel)\n",
    "  ii) python -m spylon_kernel install\n",
    "*/"
   ]
  },
  {
   "cell_type": "code",
   "execution_count": 26,
   "id": "53587db5",
   "metadata": {},
   "outputs": [
    {
     "data": {
      "text/plain": [
       "import org.apache.spark.sql.types._\r\n",
       "schem: org.apache.spark.sql.types.StructType = StructType(StructField(Serial Number,StringType,true), StructField(Company Name,StringType,true), StructField(Employee Markme,StringType,true), StructField(Description,StringType,true), StructField(Leave,StringType,true))\r\n"
      ]
     },
     "execution_count": 26,
     "metadata": {},
     "output_type": "execute_result"
    }
   ],
   "source": [
    "import org.apache.spark.sql.types._\n",
    "val schem=StructType(Array(StructField(\"Serial Number\",StringType,true),StructField(\"Company Name\",StringType,true),StructField(\"Employee Markme\",StringType,true),StructField(\"Description\",StringType,true),StructField(\"Leave\",StringType,true)))"
   ]
  },
  {
   "cell_type": "code",
   "execution_count": null,
   "id": "24bc7355",
   "metadata": {},
   "outputs": [],
   "source": []
  },
  {
   "cell_type": "code",
   "execution_count": 3,
   "id": "06908e2b",
   "metadata": {},
   "outputs": [
    {
     "data": {
      "text/plain": [
       "df1: org.apache.spark.sql.DataFrame = [Serial Number: string, Company Name: string ... 3 more fields]\r\n"
      ]
     },
     "execution_count": 3,
     "metadata": {},
     "output_type": "execute_result"
    }
   ],
   "source": [
    "val df1=spark.read.format(\"csv\").schema(schem).option(\"header\",\"true\").csv(\"C:/Users/amrit/Downloads/Sample10K.csv\")"
   ]
  },
  {
   "cell_type": "code",
   "execution_count": 5,
   "id": "a79d24cf",
   "metadata": {},
   "outputs": [
    {
     "name": "stdout",
     "output_type": "stream",
     "text": [
      "root\n",
      " |-- Serial Number: string (nullable = true)\n",
      " |-- Company Name: string (nullable = true)\n",
      " |-- Employee Markme: string (nullable = true)\n",
      " |-- Description: string (nullable = true)\n",
      " |-- Leave: string (nullable = true)\n",
      "\n"
     ]
    }
   ],
   "source": [
    "df1.printSchema"
   ]
  },
  {
   "cell_type": "code",
   "execution_count": 6,
   "id": "a22bd1be",
   "metadata": {},
   "outputs": [
    {
     "name": "stdout",
     "output_type": "stream",
     "text": [
      "+-------------+--------------------+---------------+------------------+-----+\n",
      "|Serial Number|        Company Name|Employee Markme|       Description|Leave|\n",
      "+-------------+--------------------+---------------+------------------+-----+\n",
      "|9788189999599|      TALES OF SHIVA|           Mark|              mark|    0|\n",
      "|9780099578079|1Q84 THE COMPLETE...|HARUKI MURAKAMI|              Mark|    0|\n",
      "|9780198082897|            MY KUMAN|           Mark|              Mark|    0|\n",
      "|9780007880331|THE GOD OF SMAAL ...|  ARUNDHATI ROY|4TH HARPER COLLINS|    2|\n",
      "|9780545060455|    THE BLACK CIRCLE|           Mark|4TH HARPER COLLINS|    0|\n",
      "+-------------+--------------------+---------------+------------------+-----+\n",
      "only showing top 5 rows\n",
      "\n"
     ]
    }
   ],
   "source": [
    "// select only the name and salary in this dataframe\n",
    "df1.show(5)"
   ]
  },
  {
   "cell_type": "code",
   "execution_count": 7,
   "id": "bd10438c",
   "metadata": {},
   "outputs": [],
   "source": [
    "//Understanding the data\n",
    "\n",
    "/*\n",
    "1.Are there any null values,if so how do i find them\n",
    "2.How many rows are there,how do i find them?\n",
    "3.What does employee markme column is telling here, does it has any unique values\n",
    "*/"
   ]
  },
  {
   "cell_type": "code",
   "execution_count": 6,
   "id": "b7d3573c",
   "metadata": {},
   "outputs": [
    {
     "data": {
      "text/plain": [
       "res3: Long = 9813\r\n"
      ]
     },
     "execution_count": 6,
     "metadata": {},
     "output_type": "execute_result"
    }
   ],
   "source": [
    "// How many rows are there in this csv file\n",
    "df1.select(\"Company Name\").count() // There are totally 9813 rows are there"
   ]
  },
  {
   "cell_type": "code",
   "execution_count": 9,
   "id": "2c2fb76c",
   "metadata": {},
   "outputs": [
    {
     "data": {
      "text/plain": [
       "res6: Long = 557\r\n"
      ]
     },
     "execution_count": 9,
     "metadata": {},
     "output_type": "execute_result"
    }
   ],
   "source": [
    "// Out of these 9813 rows how many rows are there in which atleast one column has null value?\n",
    "df1.where(df1(\"Company Name\").isNull || df1(\"Employee Markme\").isNull || df1(\"Description\").isNull||df1(\"Leave\").isNull).count()\n",
    "\n",
    "//So out of 9813 rows we have 557 rows with null values, either we can drop it or we can replace with most repeated values"
   ]
  },
  {
   "cell_type": "code",
   "execution_count": 10,
   "id": "3a054034",
   "metadata": {},
   "outputs": [
    {
     "name": "stdout",
     "output_type": "stream",
     "text": [
      "+--------------------+-----+\n",
      "|        Company Name|count|\n",
      "+--------------------+-----+\n",
      "|     THE JUNGLE BOOK|    8|\n",
      "|         ANIMAL FARM|    8|\n",
      "|         THE PROPHET|    7|\n",
      "|     TREASURE ISLAND|    7|\n",
      "|               HEIDI|    7|\n",
      "|   THE INVISIBLE MAN|    6|\n",
      "|THE STORY OF MY LIFE|    6|\n",
      "| THINK AND GROW RICH|    5|\n",
      "|      THE ART OF WAR|    5|\n",
      "|   THE LITTLE PRINCE|    5|\n",
      "|MERI PRIYA KAHANIYAN|    4|\n",
      "|         THE TEMPEST|    4|\n",
      "|THE DIARY OF A YO...|    4|\n",
      "|THE CANTERVILLE G...|    4|\n",
      "|           GITANJALI|    4|\n",
      "|           PETER PAN|    4|\n",
      "|   AS A MAN THINKETH|    4|\n",
      "|THE POWER OF POSI...|    4|\n",
      "|THE GIRL ON THE T...|    4|\n",
      "|THE POWER OF YOUR...|    4|\n",
      "+--------------------+-----+\n",
      "only showing top 20 rows\n",
      "\n"
     ]
    }
   ],
   "source": [
    "(df1.where(df1(\"Company Name\").isNotNull).groupBy(\"Company Name\").count().orderBy(desc(\"count\"))).show()\n",
    "\n",
    "//This result shows the Company names are repeated and they are not unique"
   ]
  },
  {
   "cell_type": "code",
   "execution_count": 11,
   "id": "ef0da1f9",
   "metadata": {},
   "outputs": [
    {
     "name": "stdout",
     "output_type": "stream",
     "text": [
      "+-------------+---------------+-------------------+---------------+\n",
      "|Serial Number|   Company Name|        Description|Employee Markme|\n",
      "+-------------+---------------+-------------------+---------------+\n",
      "|9789351213703|THE JUNGLE BOOK|  BPI INDIA PVT LTD|           Mark|\n",
      "|9789386360403|THE JUNGLE BOOK|  BPI INDIA PVT LTD|           Mark|\n",
      "|9781846650635|THE JUNGLE BOOK|      CHARLES BAKER|           Mark|\n",
      "|9789350892671|THE JUNGLE BOOK|          DREAMLAND|           Mark|\n",
      "|9789385907326|THE JUNGLE BOOK|        KORAL BOOKS|           Mark|\n",
      "|9789382677192|THE JUNGLE BOOK|     MAANU GRAPHICS|RUDYARD KIPLING|\n",
      "|9788129131324|THE JUNGLE BOOK|          RUPA & CO|KIPLING LIBRARY|\n",
      "|9789351994527|THE JUNGLE BOOK|V-CONNECT EDUCATION|           Mark|\n",
      "+-------------+---------------+-------------------+---------------+\n",
      "\n"
     ]
    }
   ],
   "source": [
    "df1.select(\"Serial Number\",\"Company Name\",\"Description\",\"Employee Markme\").where($\"Company Name\"===\"THE JUNGLE BOOK\").show()\n",
    "\n",
    "/*\n",
    "Observation:\n",
    "Each Company name is repeated so i further dig in to see other columns along with the company name so that i can see how they are\n",
    "related.\n",
    "1.Company Name is equal to Book name\n",
    "2.Description defines the publication company name\n",
    "3.Employee Markme defines author name.One more thing to be noted here is that,when author name is not known it's noted as \"Mark\"\n",
    "\n",
    "*/"
   ]
  },
  {
   "cell_type": "code",
   "execution_count": 12,
   "id": "3da17ee8",
   "metadata": {},
   "outputs": [],
   "source": [
    "// Are there any books which has author only as \"Mark\"\n"
   ]
  },
  {
   "cell_type": "code",
   "execution_count": 13,
   "id": "cdbb570a",
   "metadata": {},
   "outputs": [
    {
     "name": "stdout",
     "output_type": "stream",
     "text": [
      "+-------------------+-----+\n",
      "|    Employee Markme|count|\n",
      "+-------------------+-----+\n",
      "|               Mark| 3679|\n",
      "|                  -|  407|\n",
      "|                  .|  183|\n",
      "|  \"\"\"Che\"\" Guevara\"|   78|\n",
      "|        RUSKIN BOND|   75|\n",
      "|     SANJEEV KAPOOR|   58|\n",
      "|               NILL|   42|\n",
      "|         nita mehta|   41|\n",
      "|                NIL|   23|\n",
      "|DEVDUTT PATTAMarkIK|   22|\n",
      "|                BPI|   21|\n",
      "|                MHE|   21|\n",
      "|      DALE CARNEGIE|   20|\n",
      "|            Roy Ron|   18|\n",
      "|         NITA MEHTA|   17|\n",
      "|    KHUSHWANT SINGH|   17|\n",
      "|        ENID BLYTON|   16|\n",
      "|           LADYBIRD|   16|\n",
      "|              HERGE|   16|\n",
      "|     DANIELLE STEEL|   16|\n",
      "|         ROALD DAHL|   15|\n",
      "|     sanjeev kapoor|   15|\n",
      "|   GERONIMO STILTON|   15|\n",
      "|     JEFFREY ARCHER|   14|\n",
      "|         TRISHMarkS|   14|\n",
      "|WILLIAM SHAKESPEARE|   14|\n",
      "|  Osborne Mary Pope|   13|\n",
      "|    GERNIMO STILTON|   13|\n",
      "|          Premchand|   13|\n",
      "|            SANJEEV|   13|\n",
      "+-------------------+-----+\n",
      "only showing top 30 rows\n",
      "\n"
     ]
    }
   ],
   "source": [
    "(df1.where(df1(\"Employee Markme\").isNotNull).groupBy(\"Employee Markme\").count().orderBy(desc(\"count\"))).show(30)\n",
    "/*\n",
    "From the data i can see these are Authors basically and one more thing is some of the books are not given any author name at all\n",
    "they are just named with the \".\" or \"-\"\n",
    "*/"
   ]
  },
  {
   "cell_type": "code",
   "execution_count": 14,
   "id": "6aca6f16",
   "metadata": {},
   "outputs": [
    {
     "name": "stdout",
     "output_type": "stream",
     "text": [
      "+--------------------+-----+\n",
      "|         Description|count|\n",
      "+--------------------+-----+\n",
      "|                 RPH|  521|\n",
      "|           RUPA & CO|  337|\n",
      "|       PENGUIN BOOKS|  319|\n",
      "|HARPERCOLLINS PUB...|  216|\n",
      "|        PUSTAK MAHAL|  195|\n",
      "|            WESTLAND|  188|\n",
      "|    G.K. PUBLICATION|  180|\n",
      "|           DREAMLAND|  165|\n",
      "|       RAJPAL & SONS|  128|\n",
      "|      HACHETTE INDIA|  124|\n",
      "|JAICO PUBLISHING ...|  124|\n",
      "|          SCHOLASTIC|  121|\n",
      "|RUPA PUBLICATIONS...|  120|\n",
      "|   HIND POCKET BOOKS|  119|\n",
      "|CENGAGE LEARNING ...|  114|\n",
      "|STERLING PUBLISHE...|  112|\n",
      "|          GREEN GOLD|   98|\n",
      "|DREAMLAND PUBLICA...|   94|\n",
      "|         MAPLE PRESS|   92|\n",
      "|   Orient Paperbacks|   88|\n",
      "+--------------------+-----+\n",
      "only showing top 20 rows\n",
      "\n"
     ]
    }
   ],
   "source": [
    "(df1.where(df1(\"Description\").isNotNull).groupBy(\"Description\").count().orderBy(desc(\"count\"))).show()"
   ]
  },
  {
   "cell_type": "code",
   "execution_count": 15,
   "id": "b68cac6d",
   "metadata": {},
   "outputs": [],
   "source": [
    "/*\n",
    "Assumption: \n",
    "1.By exploring the data above, i observed that some of the author names(for the same book) became unique because of the following\n",
    "reasons\n",
    "    i) By spelling mistakes\n",
    "    ii)By using white spaces between words\n",
    "    iii) some of them are shortcut initials(like first name and middle names are kept as alphabets)\n",
    "So i'm assuming if the name is repeated multiple times then it's the original name so we can replace in the place of \"Mark\" or \"-\"\n",
    "\n",
    "*/"
   ]
  },
  {
   "cell_type": "code",
   "execution_count": 4,
   "id": "333a49bf",
   "metadata": {},
   "outputs": [
    {
     "name": "stdout",
     "output_type": "stream",
     "text": [
      "+--------------------+--------------------+-----+\n",
      "|        company_name|     employee_markme|count|\n",
      "+--------------------+--------------------+-----+\n",
      "|     THE JUNGLE BOOK|                Mark|    6|\n",
      "|     TREASURE ISLAND|                Mark|    4|\n",
      "|               HEIDI|                Mark|    4|\n",
      "| THINK AND GROW RICH|     MarkPOLEON HILL|    4|\n",
      "|         ANIMAL FARM|       GEORGE ORWELL|    4|\n",
      "|THE STORY OF MY LIFE|        HELEN KELLER|    4|\n",
      "|THE DIARY OF A YO...|          ANNE FRANK|    3|\n",
      "|           GITANJALI|RABINDRAMarkTH TA...|    3|\n",
      "|   AS A MAN THINKETH|         JAMES ALLEN|    3|\n",
      "|THE GIRL ON THE T...|       PAULA HAWKINS|    3|\n",
      "|         THE PROPHET|       Kahlil Gibran|    3|\n",
      "|     ABRAHAM LINCOLN|                Mark|    3|\n",
      "|   THE INVISIBLE MAN|                Mark|    3|\n",
      "|HOW TO WIN FRIEND...|       DALE CARNEGIE|    2|\n",
      "| ALICE IN WONDERLAND|                Mark|    2|\n",
      "|             NEERAJA|                Mark|    2|\n",
      "|        THUMBELIMark|                Mark|    2|\n",
      "|           PETER PAN|          J M BARRIE|    2|\n",
      "|                1984|       GEORGE ORWELL|    2|\n",
      "|           AFTER YOU|          JOJO MOYES|    2|\n",
      "+--------------------+--------------------+-----+\n",
      "only showing top 20 rows\n",
      "\n"
     ]
    },
    {
     "data": {
      "text/plain": [
       "employeeReplace: org.apache.spark.sql.Dataset[org.apache.spark.sql.Row] = [Company Name: string, Employee Markme: string ... 1 more field]\r\n",
       "employeeReplace1: org.apache.spark.sql.DataFrame = [company_name: string, employee_markme: string ... 1 more field]\r\n"
      ]
     },
     "execution_count": 4,
     "metadata": {},
     "output_type": "execute_result"
    }
   ],
   "source": [
    "val employeeReplace=df1.groupBy(\"Company Name\",\"Employee Markme\").count().orderBy(desc(\"count\"))\n",
    "val employeeReplace1=employeeReplace.withColumnRenamed(\"Company Name\",\"company_name\").withColumnRenamed(\"Employee Markme\",\"employee_markme\").toDF()\n",
    "employeeReplace1.show()"
   ]
  },
  {
   "cell_type": "code",
   "execution_count": 5,
   "id": "da463482",
   "metadata": {},
   "outputs": [
    {
     "data": {
      "text/plain": [
       "import scala.collection.mutable.Map\r\n",
       "groupList: List[org.apache.spark.sql.Row] = List([THE JUNGLE BOOK,Mark,6], [HEIDI,Mark,4], [THINK AND GROW RICH,MarkPOLEON HILL,4], [ANIMAL FARM,GEORGE ORWELL,4], [TREASURE ISLAND,Mark,4], [THE STORY OF MY LIFE,HELEN KELLER,4], [AS A MAN THINKETH,JAMES ALLEN,3], [THE PROPHET,Kahlil Gibran,3], [THE DIARY OF A YOUNG GIRL,ANNE FRANK,3], [THE GIRL ON THE TRAIN,PAULA HAWKINS,3], [ABRAHAM LINCOLN,Mark,3], [GITANJALI,RABINDRAMarkTH TAGORE,3], [THE INVISIBLE MAN,Mark,3], [CTET SUCCESS MASTER PLANNER FOR PAPER II,Mark,2], [THE ADVENTURES OF SHERLOCK HOLMES,Mark,2], [ANGELS & DEMONS,DAN BROWN,2], [108 MarkMES OF HANUMAN,Mark,2], [THE GURU OF JOY,FRANCOIS GAUTIER,2], [ALICE IN WONDERLAND,Mark,2], [HOW TO WIN FRIENDS AND INFLUENCE PEOPLE,DALE CARNEGIE,2], [AISA ...\r\n"
      ]
     },
     "execution_count": 5,
     "metadata": {},
     "output_type": "execute_result"
    }
   ],
   "source": [
    "// converting a dataframe to a List of values\n",
    "import scala.collection.mutable.Map\n",
    "// Goal is to convert the each row of a dataframe into the list.\n",
    "val groupList=employeeReplace.select(\"Company Name\",\"Employee Markme\",\"count\").collect().toList\n",
    "/*\n",
    "Using collect().toList==>i'm converting the entire dataframe to the list,but the collect() methods needs to be avoided on larger\n",
    "datasets as it will result in out of memory problem\n",
    "*/\n",
    "var newMap:Map[String,String]=null;\n"
   ]
  },
  {
   "cell_type": "code",
   "execution_count": 6,
   "id": "d720bcbd",
   "metadata": {},
   "outputs": [
    {
     "data": {
      "text/plain": [
       "companyToEmployee: scala.collection.mutable.Map[String,String] = Map(SOCH BADLO ZINDAGI BADLO -> BRYAN TARESI, CITY OF ASHES -> Mark, HINDU HONE KA MATLAB -> VIJAY SANKAR MEHTA, KVS TEACHERS (PGT) COMMERCE GUIDE -> -, MY BIG BOOK OF ABC -> Mark, THE LITTLE GIANT BOOK OF  JOKES -> Joseph Rosenbloom, FALIT JYOTISH SUTRA(HND) -> SATYAMarkRAYAN JANGID, GARBHVATI VA SHISHUPALAN (HINDI) -> Mark, PEPPER LEARN TEAM SPIRIT -> Mark, HITOPADESH TALES -> Mark, THE TEMPEST -> WILLIAM SHAKESPEARE, MIDNIGHT CHILDREN -> SALMAN RUSHDIE, SSC (CPWD/CWC/MES) JE-CONV. SOLVED PAPERS ELECTRICAL ENGG PAPER-II 2017 -> Mark, MONSTER COLOURING BOOK (GIANT BOOK SERIES) -> WONDER HOUSE BOOKS, RRB JUNIOR ENGINEER -> Mark, THE ESSENCE OF BHAGWAD -> ATUL SAH, $ELLEBRITY -> GEORGE LOIS, THE PRINCESS WITH THE LONGEST HA...\r\n"
      ]
     },
     "execution_count": 6,
     "metadata": {},
     "output_type": "execute_result"
    }
   ],
   "source": [
    "var companyToEmployee:Map[String,String]=Map();\n",
    "for(row<-groupList){\n",
    "            val companyName:String=row.getString(0);\n",
    "            val markMe:String=row.getString(1);\n",
    "            if(companyToEmployee.contains(companyName)){\n",
    "                if(companyToEmployee(companyName)==\"Mark\" && markMe!=\"Mark\"){\n",
    "                    //println(markMe,companyName)\n",
    "                    companyToEmployee(companyName)=markMe\n",
    "\n",
    "                }\n",
    "            }\n",
    "            else{\n",
    "                companyToEmployee+=(companyName->markMe)\n",
    "            }\n",
    "            \n",
    "        }"
   ]
  },
  {
   "cell_type": "code",
   "execution_count": 9,
   "id": "a4562e01",
   "metadata": {},
   "outputs": [],
   "source": [
    "import spark.implicits._\n",
    "var lookupCol=companyToEmployee.toSeq.toDF(\"company_name\",\"employee_mark\")\n",
    "lookupCol.show()\n",
    "// Even after processing i can still see the \"Mark\" value whyy?"
   ]
  },
  {
   "cell_type": "code",
   "execution_count": 10,
   "id": "132e9482",
   "metadata": {},
   "outputs": [
    {
     "name": "stdout",
     "output_type": "stream",
     "text": [
      "+---------------+-------------------+---------------+\n",
      "|   Company Name|        Description|Employee Markme|\n",
      "+---------------+-------------------+---------------+\n",
      "|THE JUNGLE BOOK|  BPI INDIA PVT LTD|           Mark|\n",
      "|THE JUNGLE BOOK|  BPI INDIA PVT LTD|           Mark|\n",
      "|THE JUNGLE BOOK|      CHARLES BAKER|           Mark|\n",
      "|THE JUNGLE BOOK|          DREAMLAND|           Mark|\n",
      "|THE JUNGLE BOOK|        KORAL BOOKS|           Mark|\n",
      "|THE JUNGLE BOOK|     MAANU GRAPHICS|RUDYARD KIPLING|\n",
      "|THE JUNGLE BOOK|          RUPA & CO|KIPLING LIBRARY|\n",
      "|THE JUNGLE BOOK|V-CONNECT EDUCATION|           Mark|\n",
      "+---------------+-------------------+---------------+\n",
      "\n",
      "+---------------+---------------+\n",
      "|   company_name|  employee_mark|\n",
      "+---------------+---------------+\n",
      "|THE JUNGLE BOOK|RUDYARD KIPLING|\n",
      "+---------------+---------------+\n",
      "\n"
     ]
    }
   ],
   "source": [
    "//Compare any of the column value before processing and after processing so that i can understand whether sol worked or not\n",
    "//1.Before processing\n",
    "df1.select(\"Company Name\",\"Description\",\"Employee Markme\").where($\"Company Name\"===\"THE JUNGLE BOOK\").show()\n",
    "//2.After Processing\n",
    "lookupCol.where($\"company_name\"===\"THE JUNGLE BOOK\").show()\n",
    "\n",
    "/*Observation:\n",
    "Before processing the Jungle Book has different has different \"Mark values\" now in the lookup column i only see one original name\n",
    "which indicates the solution worked\n",
    "The \"Mark\" values in the lookup table is due to the fact,there is no other author values except \"mark \" for a book\n",
    "*/"
   ]
  },
  {
   "cell_type": "code",
   "execution_count": 14,
   "id": "c11458ae",
   "metadata": {},
   "outputs": [
    {
     "ename": "<console>",
     "evalue": "34: error: not found: value lookupCol\r",
     "output_type": "error",
     "traceback": [
      "<console>:34: error: not found: value lookupCol\r",
      "       df1.join(lookupCol,df1(\"Company Name\")==lookupCol(\"company_name\"),\"inner\").show()\r",
      "                ^\r",
      "<console>:34: error: not found: value lookupCol\r",
      "       df1.join(lookupCol,df1(\"Company Name\")==lookupCol(\"company_name\"),\"inner\").show()\r",
      "                                               ^\r",
      ""
     ]
    }
   ],
   "source": [
    "// Now replacing the Mark values with the processed values in the lookupCol dataframe\n",
    "df1.join(lookupCol,df1(\"Company Name\")==lookupCol(\"company_name\"),\"inner\").show()"
   ]
  },
  {
   "cell_type": "code",
   "execution_count": 11,
   "id": "de77e8e3",
   "metadata": {},
   "outputs": [
    {
     "data": {
      "text/plain": [
       "df2: org.apache.spark.sql.DataFrame = [serial_number: string, company_name: string ... 3 more fields]\r\n"
      ]
     },
     "execution_count": 11,
     "metadata": {},
     "output_type": "execute_result"
    }
   ],
   "source": [
    "var df2=df1.withColumnRenamed(\"Company Name\",\"company_name\").withColumnRenamed(\"Serial Number\",\"serial_number\")"
   ]
  },
  {
   "cell_type": "code",
   "execution_count": 12,
   "id": "e07548ef",
   "metadata": {},
   "outputs": [],
   "source": [
    "df2.createOrReplaceTempView(\"temporary_table\")\n",
    "lookupCol.createOrReplaceTempView(\"lookupcol_table\")"
   ]
  },
  {
   "cell_type": "code",
   "execution_count": 13,
   "id": "ce70fb42",
   "metadata": {},
   "outputs": [
    {
     "name": "stdout",
     "output_type": "stream",
     "text": [
      "+-------------+--------------------+---------------+--------------------+-----+\n",
      "|serial_number|        company_name|  employee_mark|         Description|Leave|\n",
      "+-------------+--------------------+---------------+--------------------+-----+\n",
      "|9788189999599|      TALES OF SHIVA|           Mark|                mark|    0|\n",
      "|9780099578079|1Q84 THE COMPLETE...|HARUKI MURAKAMI|                Mark|    0|\n",
      "|9780198082897|            MY KUMAN|           Mark|                Mark|    0|\n",
      "|9780007880331|THE GOD OF SMAAL ...|  ARUNDHATI ROY|  4TH HARPER COLLINS|    2|\n",
      "|9780545060455|    THE BLACK CIRCLE|           Mark|  4TH HARPER COLLINS|    0|\n",
      "|9788126525072|THE THREE LAWS OF...|           Mark|  4TH HARPER COLLINS|    0|\n",
      "|9789381626610|   CHAMarkKYA MANTRA|           Mark|  4TH HARPER COLLINS|    0|\n",
      "|9788184513523|            59.FLAGS|           Mark|  4TH HARPER COLLINS|    0|\n",
      "|9780743234801|THE POWER OF POSI...|           Mark|     A & A PUBLISHER|    0|\n",
      "|9789381529621|YOU CAN IF YO THI...|          PEALE|     A & A PUBLISHER|    0|\n",
      "|9788183223966|DONGRI SE DUBAI T...|           Mark|     A & A PUBLISHER|    0|\n",
      "|9788187776005|MarkLANDA ADYTAN ...|           Mark|   AADISH BOOK DEPOT|    0|\n",
      "|9788187776013|MarkLANDA VISHAL ...|              -|   AADISH BOOK DEPOT|    1|\n",
      "|   8187776021|MarkLANDA CONCISE...|           Mark|   AADISH BOOK DEPOT|    0|\n",
      "|9789384716165|LIEUTEMarkMarkT G...|           Mark|          AAM COMICS|    2|\n",
      "|9789384716233|LN. MarkIK SUNDER...|            N.A|          AAN COMICS|    0|\n",
      "|9789384850319|      I AM KRISHMark|   DEEP TRIVEDI|AATMAN INNOVATION...|    1|\n",
      "|9789384850357|DON'T TEACH ME TO...|   DEEP TRIVEDI|AATMAN INNOVATION...|    0|\n",
      "|9789384850364|MUJHE SAHISHNUTA ...|   DEEP TRIVEDI|AATMAN INNOVATION...|    0|\n",
      "|9789384850746|  SECRETS OF DESTINY|   DEEP TRIVEDI|AATMAN INNOVATION...|    1|\n",
      "+-------------+--------------------+---------------+--------------------+-----+\n",
      "only showing top 20 rows\n",
      "\n"
     ]
    },
    {
     "data": {
      "text/plain": [
       "table: org.apache.spark.sql.DataFrame = [serial_number: string, company_name: string ... 3 more fields]\r\n"
      ]
     },
     "execution_count": 13,
     "metadata": {},
     "output_type": "execute_result"
    }
   ],
   "source": [
    "/*\n",
    "Now the main goal i was having is to replace the employee_markme inside the original dataframe with the values present inside the\n",
    "lookupCol dataframe.\n",
    "I saw there is many to one relationship b/w the original dataframe and lookupCol dataframe, so i thought to join these two tables\n",
    "using the company_name as a condition.\n",
    "Tried using the Join operation function of a dataframe but it didn't worked\n",
    "Hence i created a temporary view for two data frames and used spark sql query to perform the join operation\n",
    "*/\n",
    "var table=spark.sql(\"select t.serial_number,t.company_name,l.employee_mark,Description,Leave from temporary_table as t inner join lookupcol_table l on t.company_name==l.company_name\")\n",
    "table.show()"
   ]
  },
  {
   "cell_type": "code",
   "execution_count": 14,
   "id": "8ef6ea7c",
   "metadata": {},
   "outputs": [
    {
     "name": "stdout",
     "output_type": "stream",
     "text": [
      "==============Before Processing===============\n",
      "+-------------+---------------+---------------+-------------------+-----+\n",
      "|Serial Number|   Company Name|Employee Markme|        Description|Leave|\n",
      "+-------------+---------------+---------------+-------------------+-----+\n",
      "|9789351213703|THE JUNGLE BOOK|           Mark|  BPI INDIA PVT LTD|    1|\n",
      "|9789386360403|THE JUNGLE BOOK|           Mark|  BPI INDIA PVT LTD|    0|\n",
      "|9781846650635|THE JUNGLE BOOK|           Mark|      CHARLES BAKER|    1|\n",
      "|9789350892671|THE JUNGLE BOOK|           Mark|          DREAMLAND|    0|\n",
      "|9789385907326|THE JUNGLE BOOK|           Mark|        KORAL BOOKS|    2|\n",
      "|9789382677192|THE JUNGLE BOOK|RUDYARD KIPLING|     MAANU GRAPHICS|    0|\n",
      "|9788129131324|THE JUNGLE BOOK|KIPLING LIBRARY|          RUPA & CO|    0|\n",
      "|9789351994527|THE JUNGLE BOOK|           Mark|V-CONNECT EDUCATION|    1|\n",
      "+-------------+---------------+---------------+-------------------+-----+\n",
      "\n",
      "==============After Processing===============\n",
      "+-------------+---------------+---------------+-------------------+-----+\n",
      "|serial_number|   company_name|  employee_mark|        Description|Leave|\n",
      "+-------------+---------------+---------------+-------------------+-----+\n",
      "|9789351213703|THE JUNGLE BOOK|RUDYARD KIPLING|  BPI INDIA PVT LTD|    1|\n",
      "|9789386360403|THE JUNGLE BOOK|RUDYARD KIPLING|  BPI INDIA PVT LTD|    0|\n",
      "|9781846650635|THE JUNGLE BOOK|RUDYARD KIPLING|      CHARLES BAKER|    1|\n",
      "|9789350892671|THE JUNGLE BOOK|RUDYARD KIPLING|          DREAMLAND|    0|\n",
      "|9789385907326|THE JUNGLE BOOK|RUDYARD KIPLING|        KORAL BOOKS|    2|\n",
      "|9789382677192|THE JUNGLE BOOK|RUDYARD KIPLING|     MAANU GRAPHICS|    0|\n",
      "|9788129131324|THE JUNGLE BOOK|RUDYARD KIPLING|          RUPA & CO|    0|\n",
      "|9789351994527|THE JUNGLE BOOK|RUDYARD KIPLING|V-CONNECT EDUCATION|    1|\n",
      "+-------------+---------------+---------------+-------------------+-----+\n",
      "\n"
     ]
    }
   ],
   "source": [
    "// checking whether the process of changing the values from \"Mark\" to \"Original values\" worked or not\n",
    "//Before processing checking the \"Mark me\" column for \"JUNGLE BOOK\"\n",
    "println(\"==============Before Processing===============\")\n",
    "df1.where($\"Company Name\"===\"THE JUNGLE BOOK\").show()\n",
    "// After processing checking the \"Mark me\" column for \"JUNGLE BOOK\"\n",
    "println(\"==============After Processing===============\")\n",
    "table.where($\"t.company_name\"===\"THE JUNGLE BOOK\").show()"
   ]
  },
  {
   "cell_type": "code",
   "execution_count": 15,
   "id": "bc666e27",
   "metadata": {},
   "outputs": [
    {
     "name": "stdout",
     "output_type": "stream",
     "text": [
      "+-------------+--------------------+---------------+--------------------+-----+\n",
      "|Serial Number|        Company Name|Employee Markme|         Description|Leave|\n",
      "+-------------+--------------------+---------------+--------------------+-----+\n",
      "|9788189999988|JAMSET  JI TATA: ...|           null|                 ACK|    0|\n",
      "|9788184820553|               SURYA|           null|                 ACK|    0|\n",
      "|   8184242832|ASTADALA YOGAMALA...|           null|ALLIED PUBLISHERS...|    1|\n",
      "|9788131904330|          AT THE ZOO|           null|             B. JAIN|    1|\n",
      "|9788190514279|VIYANJAN GYAN { H...|           null|    BLUE BERRY BOOKS|    0|\n",
      "|   8170110122|PANCHATANTRA KI K...|           null| CHILDREN BOOK TRUST|    1|\n",
      "|   8170110335|PANCHATANTRA KI K...|           null| CHILDREN BOOK TRUST|    1|\n",
      "|   8170110580|PANCHATANTRA KI K...|           null| CHILDREN BOOK TRUST|    1|\n",
      "|   8170110904|PANCHATANTRA KI K...|           null| CHILDREN BOOK TRUST|    1|\n",
      "|   8170112311|PANCHATANTRA KI K...|           null| CHILDREN BOOK TRUST|    2|\n",
      "|   8170115159|LAUT KE BUDDHU GH...|           null| CHILDREN BOOK TRUST|    0|\n",
      "|   8189750232|  MarkITIK KAHANIYAN|           null| CHILDREN BOOK TRUST|    1|\n",
      "|   8189750283|BANJARA HILL KE B...|           null| CHILDREN BOOK TRUST|    1|\n",
      "|9788170110445|STORIES FROM PANC...|           null| CHILDREN BOOK TRUST|    1|\n",
      "|9780007845811|COLLINS EASY LEAR...|           null|    COLLINS BUSINESS|    1|\n",
      "|9788184510010|MY NEW  COLOURING...|           null|           DREAMLAND|    0|\n",
      "|9788184516494|KID'S 4TH ACTIVIT...|           null|           DREAMLAND|    0|\n",
      "|9788184514827|PLAY WITH STICKER...|           null|           DREAMLAND|    0|\n",
      "|9788184517248|UGLY DUCKLING : P...|           null|           DREAMLAND|    4|\n",
      "|9788184517255|SINDBAD : POP-UP ...|           null|           DREAMLAND|    4|\n",
      "+-------------+--------------------+---------------+--------------------+-----+\n",
      "only showing top 20 rows\n",
      "\n"
     ]
    }
   ],
   "source": [
    "df1.where($\"Employee Markme\".isNull).show()"
   ]
  },
  {
   "cell_type": "code",
   "execution_count": 16,
   "id": "6adb67ad",
   "metadata": {},
   "outputs": [
    {
     "data": {
      "text/plain": [
       "table: org.apache.spark.sql.DataFrame = [serial_number: string, company_name: string ... 3 more fields]\r\n",
       "table: org.apache.spark.sql.DataFrame = [serial_number: string, company_name: string ... 3 more fields]\r\n"
      ]
     },
     "execution_count": 16,
     "metadata": {},
     "output_type": "execute_result"
    }
   ],
   "source": [
    "table=table.na.fill(\"\") // filling the null values with an empty string in columns\n",
    "table=table.toDF"
   ]
  },
  {
   "cell_type": "code",
   "execution_count": 21,
   "id": "01ca3763",
   "metadata": {},
   "outputs": [
    {
     "data": {
      "text/plain": [
       "driverClass: String = com.microsoft.sqlserver.jdbc.SQLServerDriver\r\n",
       "jdbcHostname: String = SONUAMRITH\\SQLEXPRESS\r\n",
       "jdbcPort: Int = 1434\r\n",
       "jdbcDatabase: String = BooksAuthors\r\n",
       "jdbcUrl: String = jdbc:sqlserver://SONUAMRITH\\SQLEXPRESS:1434;database=BooksAuthors;trustServerCertificate=true;\r\n",
       "import java.util.Properties\r\n",
       "connectionProperties: java.util.Properties = {password=root, Driver=com.microsoft.sqlserver.jdbc.SQLServerDriver, user=sa}\r\n",
       "res13: Object = null\r\n"
      ]
     },
     "execution_count": 21,
     "metadata": {},
     "output_type": "execute_result"
    }
   ],
   "source": [
    "// I want to save this processed data present inside dataframe to be saved permanently inside a MS SQL Database\n",
    "/*\n",
    "In order for the Spark to recognize the MS SQL Jdbc driver add the JDBC driver path in the \"PATH\" environment variable and also\n",
    "place the Jar inside the lib folder of spark which i downloaded.\n",
    "*/\n",
    "val driverClass = \"com.microsoft.sqlserver.jdbc.SQLServerDriver\"\n",
    "val jdbcHostname = \"SONUAMRITH\\\\SQLEXPRESS\"\n",
    "val jdbcPort = 1434\n",
    "val jdbcDatabase = \"BooksAuthors\"\n",
    "val jdbcUrl = s\"jdbc:sqlserver://${jdbcHostname}:${jdbcPort};database=${jdbcDatabase};trustServerCertificate=true;\"\n",
    "import java.util.Properties\n",
    "val connectionProperties = new Properties()\n",
    "\n",
    "connectionProperties.put(\"user\", \"sa\")\n",
    "connectionProperties.put(\"password\",\"root\")\n",
    "connectionProperties.setProperty(\"Driver\", driverClass)"
   ]
  },
  {
   "cell_type": "code",
   "execution_count": 23,
   "id": "efcefec1",
   "metadata": {},
   "outputs": [],
   "source": [
    "/* I want to save the data present inside the dataframe to Sql Database so that whenever i want to read the data i can read it\n",
    "from the DB instead of executing each cell again and again after shutdown of kernel\n",
    "*/\n",
    "table.write.option(\"truncate\",\"true\").jdbc(jdbcUrl,\"Refined_Table\",connectionProperties)"
   ]
  },
  {
   "cell_type": "code",
   "execution_count": 29,
   "id": "b6a025a5",
   "metadata": {},
   "outputs": [
    {
     "name": "stdout",
     "output_type": "stream",
     "text": [
      "+-------------+--------------------+---------------+------------------+-----+\n",
      "|serial_number|        company_name|  employee_mark|       Description|Leave|\n",
      "+-------------+--------------------+---------------+------------------+-----+\n",
      "|9788189999599|      TALES OF SHIVA|           Mark|              mark|    0|\n",
      "|9780099578079|1Q84 THE COMPLETE...|HARUKI MURAKAMI|              Mark|    0|\n",
      "|9780198082897|            MY KUMAN|           Mark|              Mark|    0|\n",
      "|9780007880331|THE GOD OF SMAAL ...|  ARUNDHATI ROY|4TH HARPER COLLINS|    2|\n",
      "|9780545060455|    THE BLACK CIRCLE|           Mark|4TH HARPER COLLINS|    0|\n",
      "|9788126525072|THE THREE LAWS OF...|           Mark|4TH HARPER COLLINS|    0|\n",
      "|9789381626610|   CHAMarkKYA MANTRA|           Mark|4TH HARPER COLLINS|    0|\n",
      "|9788184513523|            59.FLAGS|           Mark|4TH HARPER COLLINS|    0|\n",
      "|9780743234801|THE POWER OF POSI...|           Mark|   A & A PUBLISHER|    0|\n",
      "|9789381529621|YOU CAN IF YO THI...|          PEALE|   A & A PUBLISHER|    0|\n",
      "+-------------+--------------------+---------------+------------------+-----+\n",
      "only showing top 10 rows\n",
      "\n"
     ]
    }
   ],
   "source": [
    "spark.read.jdbc(jdbcUrl,\"Refined_Table\",connectionProperties).show(10)"
   ]
  },
  {
   "cell_type": "code",
   "execution_count": null,
   "id": "1a3a136a",
   "metadata": {},
   "outputs": [],
   "source": [
    "val samp=List((\"sonu\",26,56000),(\"sreeja\",24,59000)).toDF(\"name\",\"age\",\"salary\")"
   ]
  },
  {
   "cell_type": "code",
   "execution_count": null,
   "id": "ba2d6caf",
   "metadata": {},
   "outputs": [],
   "source": [
    "def highSal(sal:Int):String={\n",
    "    \n",
    "    if(sal>56000){\n",
    "        return \"Low\"\n",
    "    }\n",
    "    else{\n",
    "        \n",
    "        return \"High\"\n",
    "    }\n",
    "}"
   ]
  },
  {
   "cell_type": "code",
   "execution_count": null,
   "id": "fce4ea89",
   "metadata": {},
   "outputs": [],
   "source": [
    "spark.udf.register(\"highSal\",highSal(_:Int):String)"
   ]
  },
  {
   "cell_type": "code",
   "execution_count": null,
   "id": "31931553",
   "metadata": {},
   "outputs": [],
   "source": [
    "(samp.selectExpr(\"highSal(salary) as Designation\"))"
   ]
  },
  {
   "cell_type": "code",
   "execution_count": null,
   "id": "5158ac84",
   "metadata": {},
   "outputs": [],
   "source": []
  }
 ],
 "metadata": {
  "kernelspec": {
   "display_name": "spylon-kernel",
   "language": "scala",
   "name": "spylon-kernel"
  },
  "language_info": {
   "codemirror_mode": "text/x-scala",
   "file_extension": ".scala",
   "help_links": [
    {
     "text": "MetaKernel Magics",
     "url": "https://metakernel.readthedocs.io/en/latest/source/README.html"
    }
   ],
   "mimetype": "text/x-scala",
   "name": "scala",
   "pygments_lexer": "scala",
   "version": "0.4.1"
  }
 },
 "nbformat": 4,
 "nbformat_minor": 5
}
